{
  "nbformat": 4,
  "nbformat_minor": 0,
  "metadata": {
    "colab": {
      "name": "cg_ml.ipynb",
      "provenance": [],
      "collapsed_sections": []
    },
    "kernelspec": {
      "name": "python3",
      "display_name": "Python 3"
    },
    "language_info": {
      "name": "python"
    }
  },
  "cells": [
    {
      "cell_type": "code",
      "metadata": {
        "id": "u-U_3JHRC-YF"
      },
      "source": [
        "import pandas as pd\n",
        "import numpy as np\n",
        "from sklearn.model_selection import train_test_split\n",
        "from sklearn.tree import DecisionTreeClassifier\n",
        "from sklearn.naive_bayes import GaussianNB\n",
        "from sklearn.tree import DecisionTreeClassifier\n",
        "from sklearn.metrics import classification_report, confusion_matrix#for visualizing tree "
      ],
      "execution_count": 8,
      "outputs": []
    },
    {
      "cell_type": "markdown",
      "metadata": {
        "id": "3hgykpNWUFJp"
      },
      "source": [
        "Read the data"
      ]
    },
    {
      "cell_type": "code",
      "metadata": {
        "id": "FanY0kZ2EjdS"
      },
      "source": [
        "data = pd.read_csv(\"deletion.tsv.gz\", delimiter='\\t')"
      ],
      "execution_count": 2,
      "outputs": []
    },
    {
      "cell_type": "code",
      "metadata": {
        "id": "wNkl5kDCEkKW"
      },
      "source": [
        "data\n"
      ],
      "execution_count": null,
      "outputs": []
    },
    {
      "cell_type": "markdown",
      "metadata": {
        "id": "VNE_lbQZUIGi"
      },
      "source": [
        "drop unwanted colums"
      ]
    },
    {
      "cell_type": "code",
      "metadata": {
        "id": "Zhb8GjUHErjO"
      },
      "source": [
        "data = data.drop(['chr_start_end', 'id'], axis=1)\n"
      ],
      "execution_count": 4,
      "outputs": []
    },
    {
      "cell_type": "markdown",
      "metadata": {
        "id": "CWwFYgsnULgy"
      },
      "source": [
        "split data to labeled, unlabeled"
      ]
    },
    {
      "cell_type": "code",
      "metadata": {
        "id": "Tzm2IKS7FPMG"
      },
      "source": [
        "unmarked_data = data[np.isnan(data[\"status\"])]\n",
        "marked_data = data[data['status'].notnull()]\n",
        "unmarked_data = unmarked_data.drop(['status'], axis=1)\n",
        "target = marked_data['status']\n",
        "marked_data = marked_data.drop(['status'], axis=1)"
      ],
      "execution_count": 5,
      "outputs": []
    },
    {
      "cell_type": "markdown",
      "metadata": {
        "id": "FWLf9MRRUTlT"
      },
      "source": [
        "split data to train and test"
      ]
    },
    {
      "cell_type": "code",
      "metadata": {
        "id": "ncjzWFIp7Xd0"
      },
      "source": [
        "X_train, X_test, y_train, y_test = train_test_split(marked_data, target, stratify = target, random_state=420)"
      ],
      "execution_count": 6,
      "outputs": []
    },
    {
      "cell_type": "markdown",
      "metadata": {
        "id": "Te8HvxxsUYy7"
      },
      "source": [
        "Naive Bayes model and accuracy\n"
      ]
    },
    {
      "cell_type": "code",
      "metadata": {
        "colab": {
          "base_uri": "https://localhost:8080/"
        },
        "id": "d6tjS0LNAhuh",
        "outputId": "9fe319c1-0af9-4538-cb38-06dc6c2d9d3a"
      },
      "source": [
        "from sklearn.metrics import accuracy_score\n",
        "nb = GaussianNB()\n",
        "nb.fit(X_train, y_train)\n",
        "target_pred_nb = nb.predict(X_test)\n",
        "\n",
        "print(\"Classification report - \\n\", classification_report(y_test,target_pred_nb))\n",
        "print('accuracy score ', accuracy_score(y_test, target_pred_nb, normalize = True))\n",
        "\n"
      ],
      "execution_count": 41,
      "outputs": [
        {
          "output_type": "stream",
          "text": [
            "Classification report - \n",
            "               precision    recall  f1-score   support\n",
            "\n",
            "         0.0       0.69      0.98      0.81        63\n",
            "         1.0       1.00      0.91      0.95       297\n",
            "\n",
            "    accuracy                           0.92       360\n",
            "   macro avg       0.84      0.94      0.88       360\n",
            "weighted avg       0.94      0.92      0.92       360\n",
            "\n",
            "accuracy score  0.9194444444444444\n"
          ],
          "name": "stdout"
        }
      ]
    },
    {
      "cell_type": "markdown",
      "metadata": {
        "id": "Fqwt2OmJUkMZ"
      },
      "source": [
        "Decission tree model"
      ]
    },
    {
      "cell_type": "code",
      "metadata": {
        "id": "DPX3IBhMCwVW",
        "colab": {
          "base_uri": "https://localhost:8080/"
        },
        "outputId": "b4be6b17-d60a-4bcb-ee75-50105f4efde4"
      },
      "source": [
        "dtree=DecisionTreeClassifier(criterion='entropy',max_depth=6,min_samples_split=3,)\n",
        "dtree.fit(X_train,y_train)\n"
      ],
      "execution_count": 52,
      "outputs": [
        {
          "output_type": "execute_result",
          "data": {
            "text/plain": [
              "DecisionTreeClassifier(ccp_alpha=0.0, class_weight=None, criterion='entropy',\n",
              "                       max_depth=6, max_features=None, max_leaf_nodes=None,\n",
              "                       min_impurity_decrease=0.0, min_impurity_split=None,\n",
              "                       min_samples_leaf=1, min_samples_split=3,\n",
              "                       min_weight_fraction_leaf=0.0, presort='deprecated',\n",
              "                       random_state=None, splitter='best')"
            ]
          },
          "metadata": {
            "tags": []
          },
          "execution_count": 52
        }
      ]
    },
    {
      "cell_type": "code",
      "metadata": {
        "id": "eoEFUM2NSQLb"
      },
      "source": [
        "target_pred_dtree = dtree.predict(X_test)\n",
        "print(\"Classification report - \\n\", classification_report(y_test,target_pred_dtree))\n",
        "print('accuracy score ', accuracy_score(y_test, target_pred_dtree, normalize = True))"
      ],
      "execution_count": null,
      "outputs": []
    },
    {
      "cell_type": "markdown",
      "metadata": {
        "id": "_mG5tQw0YOpQ"
      },
      "source": [
        "Tree Visualization"
      ]
    },
    {
      "cell_type": "code",
      "metadata": {
        "id": "6VwjpjaARV4i"
      },
      "source": [
        "from sklearn.tree import plot_tree\n",
        "import matplotlib.pyplot as plt\n",
        "%matplotlib inline\n",
        "plt.figure(figsize=(70,40))\n",
        "plot_tree(dtree, filled=True, fontsize=14)"
      ],
      "execution_count": null,
      "outputs": []
    },
    {
      "cell_type": "markdown",
      "metadata": {
        "id": "QoMsyjRgbDYw"
      },
      "source": [
        "Random Forest model"
      ]
    },
    {
      "cell_type": "code",
      "metadata": {
        "colab": {
          "base_uri": "https://localhost:8080/"
        },
        "id": "SHqdhfPiTkNJ",
        "outputId": "83a7a5e3-c1d2-4643-d81f-95dc21fac5c7"
      },
      "source": [
        "from sklearn.ensemble import RandomForestClassifier\n",
        "\n",
        "# Create the model with 100 trees\n",
        "RFmodel = RandomForestClassifier(n_estimators=100, \n",
        "                               bootstrap = True,\n",
        "                               max_features = 'sqrt')\n",
        "# Fit on training data\n",
        "RFmodel.fit(X_train, y_train)"
      ],
      "execution_count": 54,
      "outputs": [
        {
          "output_type": "execute_result",
          "data": {
            "text/plain": [
              "RandomForestClassifier(bootstrap=True, ccp_alpha=0.0, class_weight=None,\n",
              "                       criterion='gini', max_depth=None, max_features='sqrt',\n",
              "                       max_leaf_nodes=None, max_samples=None,\n",
              "                       min_impurity_decrease=0.0, min_impurity_split=None,\n",
              "                       min_samples_leaf=1, min_samples_split=2,\n",
              "                       min_weight_fraction_leaf=0.0, n_estimators=100,\n",
              "                       n_jobs=None, oob_score=False, random_state=None,\n",
              "                       verbose=0, warm_start=False)"
            ]
          },
          "metadata": {
            "tags": []
          },
          "execution_count": 54
        }
      ]
    },
    {
      "cell_type": "code",
      "metadata": {
        "id": "uuMPWjC0Rjvj"
      },
      "source": [
        "target_pred_RFmodel = RFmodel.predict(X_test)"
      ],
      "execution_count": 55,
      "outputs": []
    },
    {
      "cell_type": "code",
      "metadata": {
        "colab": {
          "base_uri": "https://localhost:8080/"
        },
        "id": "bOQqPrzKT0r5",
        "outputId": "e0ea2cc6-4650-4623-d9f0-9d5c3a08ad40"
      },
      "source": [
        "print(\"Classification report - \\n\", classification_report(y_test,target_pred_RFmodel))\n",
        "print('accuracy score ', accuracy_score(y_test, target_pred_RFmodel, normalize = True))"
      ],
      "execution_count": 56,
      "outputs": [
        {
          "output_type": "stream",
          "text": [
            "Classification report - \n",
            "               precision    recall  f1-score   support\n",
            "\n",
            "         0.0       0.97      0.97      0.97        63\n",
            "         1.0       0.99      0.99      0.99       297\n",
            "\n",
            "    accuracy                           0.99       360\n",
            "   macro avg       0.98      0.98      0.98       360\n",
            "weighted avg       0.99      0.99      0.99       360\n",
            "\n",
            "accuracy score  0.9888888888888889\n"
          ],
          "name": "stdout"
        }
      ]
    },
    {
      "cell_type": "code",
      "metadata": {
        "id": "cA3fg42NclRB"
      },
      "source": [
        ""
      ],
      "execution_count": 61,
      "outputs": []
    },
    {
      "cell_type": "code",
      "metadata": {
        "id": "YLIAtiTPeIam"
      },
      "source": [
        ""
      ],
      "execution_count": null,
      "outputs": []
    }
  ]
}